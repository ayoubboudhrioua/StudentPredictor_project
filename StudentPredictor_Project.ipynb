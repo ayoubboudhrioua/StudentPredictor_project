{
  "cells": [
    {
      "cell_type": "markdown",
      "source": [
        "**ML Student predictor Project**"
      ],
      "metadata": {
        "id": "UelHsqpbH4r2"
      }
    },
    {
      "cell_type": "code",
      "source": [
        "import pandas as pd\n",
        "from sklearn.model_selection import train_test_split\n",
        "from sklearn.linear_model import LinearRegression, LogisticRegression\n",
        "from sklearn.preprocessing import StandardScaler\n",
        "from sklearn.metrics import mean_squared_error, r2_score, accuracy_score, precision_score, recall_score\n",
        "import gradio as gr\n",
        "import numpy as np\n",
        "df=pd.read_csv('studentPerformance.csv')\n",
        "df\n",
        "lin=LinearRegression()\n",
        "log=LogisticRegression()\n",
        "predictors=['Study_Hours','Attendance','Practice_Tests']\n",
        "target='Final_Score'\n",
        "target1='Pass_Fail'\n",
        "x=df[predictors]\n",
        "y=df[target]\n",
        "y1=df[target1]\n",
        "x_train,x_test,y_train,y_test=train_test_split(x,y,test_size=0.2,random_state=42)\n",
        "xlog_train,xlog_test,y1_train,y1_test=train_test_split(x,y1,test_size=0.2,random_state=42)\n",
        "scaler=StandardScaler()\n",
        "xlog_train_scaled=scaler.fit_transform(xlog_train)\n",
        "xlog_test_scaled=scaler.transform(xlog_test)\n",
        "lin.fit(x_train,y_train)\n",
        "ypred=lin.predict(x_test)\n",
        "log.fit(xlog_train_scaled,y1_train)\n",
        "y1pred=log.predict(xlog_test_scaled)\n",
        "mse=mean_squared_error(y_test,ypred)\n",
        "r2=r2_score(y_test,ypred)\n",
        "accuracy=accuracy_score(y1_test,y1pred)\n",
        "precision=precision_score(y1_test,y1pred)\n",
        "recall=recall_score(y1_test,y1pred)\n",
        "def student_prediction(study_hours,attendance,practice_tests):\n",
        "  new_data=np.array([[float(study_hours),float(attendance),float(practice_tests)]])\n",
        "  new_data_scaled=scaler.transform(new_data)\n",
        "  score_pred=lin.predict(new_data)[0]\n",
        "  pass_fail_pred=log.predict(new_data_scaled)[0]\n",
        "  if pass_fail_pred==1:\n",
        "    p_f=\"PASS🎊\"\n",
        "  else:\n",
        "    p_f=\"FAIL😓\"\n",
        "  return round(score_pred),p_f\n",
        "demo=gr.Interface(\n",
        "  fn=student_prediction,\n",
        "  inputs=[\n",
        "      gr.Number(label=\"Study Hours per week 👨‍🎓\"),\n",
        "      gr.Number(label=\"Attendance (%)\"),\n",
        "      gr.Number(label=\"Number of Practice Tests\")\n",
        "  ],\n",
        "  outputs=[\n",
        "      gr.Number(label=\"Predicted Score\"),\n",
        "      gr.Textbox(label=\"Pass/Fail\")\n",
        "  ],\n",
        "  title=\"🎓 Student Performance Predictor\",\n",
        "  description=\"Enter student details to predict grade and pass/fail outcome.\")\n",
        "demo.launch(share=True)\n"
      ],
      "metadata": {
        "id": "K53z8Dv6HobU"
      },
      "execution_count": null,
      "outputs": []
    }
  ],
  "metadata": {
    "colab": {
      "provenance": []
    },
    "kernelspec": {
      "display_name": "Python 3",
      "name": "python3"
    }
  },
  "nbformat": 4,
  "nbformat_minor": 0
}